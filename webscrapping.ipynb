{
 "cells": [
  {
   "cell_type": "code",
   "execution_count": 73,
   "metadata": {},
   "outputs": [],
   "source": [
    "import requests\n",
    "from bs4 import BeautifulSoup\n",
    "\n",
    "def webscrapping(url):\n",
    "    autor = []\n",
    "    respuesta = requests.get(url)\n",
    "    soup = BeautifulSoup(respuesta.text, 'html.parser')\n",
    "    titulos_h3 = soup.find_all('h3')\n",
    "    for titulo in titulos_h3:\n",
    "        if titulo.text[0].isdigit() :\n",
    "            autor.append(titulo.text)\n",
    "    return autor"
   ]
  },
  {
   "cell_type": "code",
   "execution_count": 74,
   "metadata": {},
   "outputs": [],
   "source": [
    "jk_rowling = webscrapping('https://psicologiaymente.com/reflexiones/frases-jk-rowling')\n",
    "allan_poe = webscrapping('https://psicologiaymente.com/reflexiones/frases-edgar-allan-poe')\n",
    "allan_poe = allan_poe[:50]\n",
    "cervantes_m = webscrapping('https://psicologiaymente.com/reflexiones/frases-miguel-de-cervantes')\n",
    "cervantes_m = cervantes_m[:50]"
   ]
  },
  {
   "cell_type": "code",
   "execution_count": 75,
   "metadata": {},
   "outputs": [],
   "source": [
    "# Bibliotecas para procesamiento de texto\n",
    "import nltk\n",
    "import spacy\n",
    "from nltk.corpus import stopwords\n",
    "from nltk.tokenize import word_tokenize\n",
    "from nltk.stem import WordNetLemmatizer\n",
    "\n",
    "# Lematizador\n",
    "lemmatizer = WordNetLemmatizer()\n",
    "# Stopwords en español\n",
    "stop_words = set(stopwords.words('spanish'))\n",
    "# Cargar el modelo de spaCy para español\n",
    "nlp = spacy.load(\"es_core_news_sm\")\n",
    "\n",
    "def normalize_text(text):\n",
    "    # Tokenizar el texto\n",
    "    tokens = word_tokenize(text)\n",
    "    # Convertir a minúsculas\n",
    "    tokens_lower = [word.lower() for word in tokens]\n",
    "    # Eliminar puntuación\n",
    "    tokens_no_punct = [word for word in tokens_lower if word.isalnum()]\n",
    "    # Eliminar digitos\n",
    "    tokens_no_digit = [word for word in tokens_no_punct if not word.isdigit()]\n",
    "    # Eliminar stopwords\n",
    "    tokens_no_stopwords = [word for word in tokens_no_digit if word not in stop_words]\n",
    "    # Unir tokens\n",
    "    tokens = \" \".join(tokens_no_stopwords)\n",
    "    # Procesar texto con spaCy\n",
    "    doc = nlp(tokens)\n",
    "    # Discriminar por tags\n",
    "    # normalized_text = [word.lemma_ for word in doc if word.pos_ in tags]\n",
    "    normalized_text = [word.lemma_ for word in doc]\n",
    "    # Unir en una sola cadena\n",
    "    normalized_text = \" \".join(normalized_text)\n",
    "\n",
    "    return tokens"
   ]
  },
  {
   "cell_type": "code",
   "execution_count": 76,
   "metadata": {},
   "outputs": [],
   "source": [
    "jk_rowling_norm = [normalize_text(text) for text in jk_rowling]\n",
    "allan_poe_norm = [normalize_text(text) for text in allan_poe]\n",
    "cervantes_m_norm = [normalize_text(text) for text in cervantes_m]"
   ]
  },
  {
   "cell_type": "code",
   "execution_count": 77,
   "metadata": {},
   "outputs": [],
   "source": [
    "# Etiquetal las frases de jk_rowling con 0 y el resto con 1\n",
    "jk_rowling_tag = [(text, 0) for text in jk_rowling_norm]\n",
    "allan_poe_tag = [(text, 1) for text in allan_poe_norm]\n",
    "cervantes_m_tag = [(text, 1) for text in cervantes_m_norm]"
   ]
  },
  {
   "cell_type": "code",
   "execution_count": 78,
   "metadata": {},
   "outputs": [],
   "source": [
    "# Unir en un dataframe\n",
    "import pandas as pd\n",
    "df = pd.DataFrame(jk_rowling_tag + allan_poe_tag + cervantes_m_tag, columns=['Phrase', 'Author'])\n",
    "\n",
    "# Guardar el dataframe en un archivo csv\n",
    "df.to_csv('corpus/authorship_heavy.csv', index=False)"
   ]
  }
 ],
 "metadata": {
  "kernelspec": {
   "display_name": "myenv",
   "language": "python",
   "name": "python3"
  },
  "language_info": {
   "codemirror_mode": {
    "name": "ipython",
    "version": 3
   },
   "file_extension": ".py",
   "mimetype": "text/x-python",
   "name": "python",
   "nbconvert_exporter": "python",
   "pygments_lexer": "ipython3",
   "version": "3.11.4"
  }
 },
 "nbformat": 4,
 "nbformat_minor": 2
}
