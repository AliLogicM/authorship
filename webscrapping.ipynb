{
 "cells": [
  {
   "cell_type": "code",
   "execution_count": 1,
   "metadata": {},
   "outputs": [],
   "source": [
    "from sklearn.feature_extraction.text import CountVectorizer\n",
    "from sklearn.model_selection import train_test_split\n",
    "from sklearn.naive_bayes import MultinomialNB\n",
    "from sklearn.metrics import accuracy_score\n",
    "from bs4 import BeautifulSoup\n",
    "import pandas as pd\n",
    "import requests\n",
    "import spacy\n",
    "import re\n",
    "\n",
    "def webscrapping(url):\n",
    "    autor = []\n",
    "    respuesta = requests.get(url)\n",
    "    soup = BeautifulSoup(respuesta.text, 'html.parser')\n",
    "    titulos_h3 = soup.find_all('h3')\n",
    "    for titulo in titulos_h3:\n",
    "        if titulo.text[0].isdigit() :\n",
    "            autor.append(titulo.text)\n",
    "    return autor"
   ]
  },
  {
   "cell_type": "code",
   "execution_count": 89,
   "metadata": {},
   "outputs": [],
   "source": [
    "jk_rowling = webscrapping('https://psicologiaymente.com/reflexiones/frases-jk-rowling')\n",
    "allan_poe = webscrapping('https://psicologiaymente.com/reflexiones/frases-edgar-allan-poe')\n",
    "sherlock_holmes = webscrapping('https://psicologiaymente.com/reflexiones/frases-sherlock-holmes')\n",
    "\n",
    "# jk_rowling = jk_rowling[:50]\n",
    "# allan_poe = allan_poe[:50]\n",
    "# sherlock_holmes = sherlock_holmes[:50]"
   ]
  },
  {
   "cell_type": "code",
   "execution_count": 90,
   "metadata": {},
   "outputs": [],
   "source": [
    "def remove_regex(texto):\n",
    "    return re.sub('\\d+\\.\\s', '', texto)\n",
    "\n",
    "jk_rowling = list(map(remove_regex, jk_rowling))\n",
    "allan_poe = list(map(remove_regex, allan_poe))\n",
    "sherlock_holmes = list(map(remove_regex, sherlock_holmes))"
   ]
  },
  {
   "cell_type": "code",
   "execution_count": 91,
   "metadata": {},
   "outputs": [],
   "source": [
    "df_jk_rowling = pd.DataFrame(jk_rowling, columns=['frases'])\n",
    "df_jk_rowling['autor'] = 'jk_rowling'\n",
    "\n",
    "df_allan_poe = pd.DataFrame(allan_poe, columns=['frases'])\n",
    "df_allan_poe['autor'] = 'allan_poe'\n",
    "\n",
    "df_sherlock_holmes = pd.DataFrame(sherlock_holmes, columns=['frases'])\n",
    "df_sherlock_holmes['autor'] = 'sherlock_holmes'\n"
   ]
  },
  {
   "cell_type": "code",
   "execution_count": 92,
   "metadata": {},
   "outputs": [],
   "source": [
    "df = pd.concat([df_jk_rowling, df_allan_poe, df_sherlock_holmes], ignore_index=True)"
   ]
  },
  {
   "cell_type": "code",
   "execution_count": 93,
   "metadata": {},
   "outputs": [
    {
     "data": {
      "text/html": [
       "<div>\n",
       "<style scoped>\n",
       "    .dataframe tbody tr th:only-of-type {\n",
       "        vertical-align: middle;\n",
       "    }\n",
       "\n",
       "    .dataframe tbody tr th {\n",
       "        vertical-align: top;\n",
       "    }\n",
       "\n",
       "    .dataframe thead th {\n",
       "        text-align: right;\n",
       "    }\n",
       "</style>\n",
       "<table border=\"1\" class=\"dataframe\">\n",
       "  <thead>\n",
       "    <tr style=\"text-align: right;\">\n",
       "      <th></th>\n",
       "      <th>frases</th>\n",
       "      <th>autor</th>\n",
       "    </tr>\n",
       "  </thead>\n",
       "  <tbody>\n",
       "    <tr>\n",
       "      <th>0</th>\n",
       "      <td>El fracaso implicó deshacerse de todo lo innec...</td>\n",
       "      <td>jk_rowling</td>\n",
       "    </tr>\n",
       "    <tr>\n",
       "      <th>1</th>\n",
       "      <td>No todo consiste en firmar libros y fotos publ...</td>\n",
       "      <td>jk_rowling</td>\n",
       "    </tr>\n",
       "    <tr>\n",
       "      <th>2</th>\n",
       "      <td>Todavía no me he olvidado de lo que se siente ...</td>\n",
       "      <td>jk_rowling</td>\n",
       "    </tr>\n",
       "    <tr>\n",
       "      <th>3</th>\n",
       "      <td>Cualquier cosa es posible si tiene suficiente ...</td>\n",
       "      <td>jk_rowling</td>\n",
       "    </tr>\n",
       "    <tr>\n",
       "      <th>4</th>\n",
       "      <td>La esperanza es algo que se mantiene para siem...</td>\n",
       "      <td>jk_rowling</td>\n",
       "    </tr>\n",
       "    <tr>\n",
       "      <th>...</th>\n",
       "      <td>...</td>\n",
       "      <td>...</td>\n",
       "    </tr>\n",
       "    <tr>\n",
       "      <th>265</th>\n",
       "      <td>Anderson, no hables en voz alta. Reduces el co...</td>\n",
       "      <td>sherlock_holmes</td>\n",
       "    </tr>\n",
       "    <tr>\n",
       "      <th>266</th>\n",
       "      <td>El sentimiento es un defecto químico que se en...</td>\n",
       "      <td>sherlock_holmes</td>\n",
       "    </tr>\n",
       "    <tr>\n",
       "      <th>267</th>\n",
       "      <td>No existe una combinación de sucesos que la in...</td>\n",
       "      <td>sherlock_holmes</td>\n",
       "    </tr>\n",
       "    <tr>\n",
       "      <th>268</th>\n",
       "      <td>La soledad es lo que tengo, la soledad es lo q...</td>\n",
       "      <td>sherlock_holmes</td>\n",
       "    </tr>\n",
       "    <tr>\n",
       "      <th>269</th>\n",
       "      <td>Todos los problemas parecen infantiles después...</td>\n",
       "      <td>sherlock_holmes</td>\n",
       "    </tr>\n",
       "  </tbody>\n",
       "</table>\n",
       "<p>270 rows × 2 columns</p>\n",
       "</div>"
      ],
      "text/plain": [
       "                                                frases            autor\n",
       "0    El fracaso implicó deshacerse de todo lo innec...       jk_rowling\n",
       "1    No todo consiste en firmar libros y fotos publ...       jk_rowling\n",
       "2    Todavía no me he olvidado de lo que se siente ...       jk_rowling\n",
       "3    Cualquier cosa es posible si tiene suficiente ...       jk_rowling\n",
       "4    La esperanza es algo que se mantiene para siem...       jk_rowling\n",
       "..                                                 ...              ...\n",
       "265  Anderson, no hables en voz alta. Reduces el co...  sherlock_holmes\n",
       "266  El sentimiento es un defecto químico que se en...  sherlock_holmes\n",
       "267  No existe una combinación de sucesos que la in...  sherlock_holmes\n",
       "268  La soledad es lo que tengo, la soledad es lo q...  sherlock_holmes\n",
       "269  Todos los problemas parecen infantiles después...  sherlock_holmes\n",
       "\n",
       "[270 rows x 2 columns]"
      ]
     },
     "execution_count": 93,
     "metadata": {},
     "output_type": "execute_result"
    }
   ],
   "source": [
    "df"
   ]
  },
  {
   "cell_type": "code",
   "execution_count": 102,
   "metadata": {},
   "outputs": [
    {
     "name": "stdout",
     "output_type": "stream",
     "text": [
      "Accuracy: 0.37037037037037035\n"
     ]
    }
   ],
   "source": [
    "df_copy = df.copy()\n",
    "\n",
    "\n",
    "nlp = spacy.load(\"es_core_news_sm\")\n",
    "\n",
    "# Función para extraer N-gramas sintácticos\n",
    "def extract_syntactic_ngrams(text, n=3):\n",
    "    doc = nlp(text)\n",
    "    pos_tags = [token.pos_ for token in doc]\n",
    "    n_grams = zip(*[pos_tags[i:] for i in range(n)])\n",
    "    return [' '.join(ngram) for ngram in n_grams]\n",
    "\n",
    "# Función para extraer N-gramas tradicionales\n",
    "def extract_ngrams(text, n=3):\n",
    "    tokens = [token.text for token in nlp(text) if not token.is_stop]\n",
    "    n_grams = zip(*[tokens[i:] for i in range(n)])\n",
    "    return [' '.join(ngram) for ngram in n_grams]\n",
    "\n",
    "# Aplicar las funciones anteriores\n",
    "# df['features'] = df['frases'].apply(extract_syntactic_ngrams)\n",
    "df['features'] = df['frases'].apply(extract_ngrams)\n",
    "\n",
    "# Vectorización\n",
    "vectorizer = CountVectorizer(analyzer=lambda x: x)\n",
    "X = vectorizer.fit_transform(df['features']).toarray()\n",
    "y = df['autor']\n",
    "\n",
    "# Dividir los datos\n",
    "X_train, X_test, y_train, y_test = train_test_split(X, y, test_size=0.2, random_state=42)\n",
    "\n",
    "# # Entrenar el clasificador\n",
    "# clf = MultinomialNB()\n",
    "# clf.fit(X_train, y_train)\n",
    "\n",
    "# entrenar con knn\n",
    "from sklearn.neighbors import KNeighborsClassifier\n",
    "clf = KNeighborsClassifier(n_neighbors=3)\n",
    "clf.fit(X_train, y_train)\n",
    "\n",
    "# Predecir y evaluar\n",
    "y_pred = clf.predict(X_test)\n",
    "print(\"Accuracy:\", accuracy_score(y_test, y_pred))\n"
   ]
  },
  {
   "cell_type": "code",
   "execution_count": 106,
   "metadata": {},
   "outputs": [
    {
     "name": "stdout",
     "output_type": "stream",
     "text": [
      "jk_rowling         81\n",
      "sherlock_holmes    70\n",
      "allan_poe          65\n",
      "Name: autor, dtype: int64\n"
     ]
    }
   ],
   "source": [
    "# cuantos hay de cada autor en el train\n",
    "print(y_train.value_counts())\n",
    "\n"
   ]
  }
 ],
 "metadata": {
  "kernelspec": {
   "display_name": "myenv",
   "language": "python",
   "name": "python3"
  },
  "language_info": {
   "codemirror_mode": {
    "name": "ipython",
    "version": 3
   },
   "file_extension": ".py",
   "mimetype": "text/x-python",
   "name": "python",
   "nbconvert_exporter": "python",
   "pygments_lexer": "ipython3",
   "version": "3.10.8"
  }
 },
 "nbformat": 4,
 "nbformat_minor": 2
}
