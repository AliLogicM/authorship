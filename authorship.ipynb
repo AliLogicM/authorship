{
 "cells": [
  {
   "cell_type": "markdown",
   "metadata": {},
   "source": [
    "# Conjuntos de datos"
   ]
  },
  {
   "cell_type": "code",
   "execution_count": 30,
   "metadata": {},
   "outputs": [],
   "source": [
    "import pandas as pd\n",
    "\n",
    "df = pd.read_csv('corpus/authorship_heavy.csv')"
   ]
  },
  {
   "cell_type": "markdown",
   "metadata": {},
   "source": [
    "# Clasificador sin ngramas"
   ]
  },
  {
   "cell_type": "code",
   "execution_count": 35,
   "metadata": {},
   "outputs": [
    {
     "name": "stdout",
     "output_type": "stream",
     "text": [
      "              precision    recall  f1-score   support\n",
      "\n",
      "           0       0.81      0.62      0.70        21\n",
      "           1       0.67      0.84      0.74        19\n",
      "\n",
      "    accuracy                           0.73        40\n",
      "   macro avg       0.74      0.73      0.72        40\n",
      "weighted avg       0.74      0.72      0.72        40\n",
      "\n"
     ]
    }
   ],
   "source": [
    "from sklearn.feature_extraction.text import TfidfVectorizer\n",
    "from sklearn.model_selection import train_test_split\n",
    "from sklearn.linear_model import LogisticRegression\n",
    "from sklearn.metrics import classification_report\n",
    "import nltk\n",
    "\n",
    "\n",
    "# Suponiendo que 'frases' es tu lista de frases y 'etiquetas' es una lista de 0s y 1s\n",
    "frases = df['Phrase']\n",
    "etiquetas = df['Author'].copy()\n",
    "\n",
    "# Preprocesamiento de texto\n",
    "vectorizador = TfidfVectorizer(max_features=1000)\n",
    "X = vectorizador.fit_transform(frases)\n",
    "\n",
    "# Dividir los datos\n",
    "X_train, X_test, y_train, y_test = train_test_split(X, etiquetas, test_size=0.20, random_state=42)\n",
    "\n",
    "# Entrenar el modelo\n",
    "modelo = LogisticRegression()\n",
    "modelo.fit(X_train, y_train)\n",
    "\n",
    "# Evaluar el modelo\n",
    "predicciones = modelo.predict(X_test)\n",
    "print(classification_report(y_test, predicciones))\n"
   ]
  },
  {
   "cell_type": "markdown",
   "metadata": {},
   "source": [
    "# Clasificador ngramas tradicionales"
   ]
  },
  {
   "cell_type": "code",
   "execution_count": 34,
   "metadata": {},
   "outputs": [
    {
     "name": "stdout",
     "output_type": "stream",
     "text": [
      "              precision    recall  f1-score   support\n",
      "\n",
      "           0       0.90      0.33      0.49        27\n",
      "           1       0.55      0.96      0.70        23\n",
      "\n",
      "    accuracy                           0.62        50\n",
      "   macro avg       0.73      0.64      0.59        50\n",
      "weighted avg       0.74      0.62      0.58        50\n",
      "\n"
     ]
    }
   ],
   "source": [
    "from sklearn.feature_extraction.text import TfidfVectorizer\n",
    "from sklearn.model_selection import train_test_split\n",
    "from sklearn.linear_model import LogisticRegression\n",
    "from sklearn.metrics import classification_report\n",
    "\n",
    "frases = df['Phrase']\n",
    "etiquetas = df['Author'].copy()\n",
    "\n",
    "\n",
    "# Vectorización con n-gramas tradicionales (bigramas)\n",
    "vectorizador = TfidfVectorizer(ngram_range=(1, 2))  # Utiliza bigramas\n",
    "X = vectorizador.fit_transform(frases)\n",
    "\n",
    "# Dividir los datos\n",
    "X_train, X_test, y_train, y_test = train_test_split(X, etiquetas, test_size=0.25, random_state=42)\n",
    "\n",
    "# Entrenar el modelo\n",
    "modelo = LogisticRegression()\n",
    "modelo.fit(X_train, y_train)\n",
    "\n",
    "# Evaluar el modelo\n",
    "predicciones = modelo.predict(X_test)\n",
    "print(classification_report(y_test, predicciones))\n"
   ]
  },
  {
   "cell_type": "markdown",
   "metadata": {},
   "source": [
    "# Clasificador ngramas sintacticos"
   ]
  },
  {
   "cell_type": "code",
   "execution_count": 33,
   "metadata": {},
   "outputs": [
    {
     "name": "stdout",
     "output_type": "stream",
     "text": [
      "              precision    recall  f1-score   support\n",
      "\n",
      "           0       0.64      0.59      0.62        27\n",
      "           1       0.56      0.61      0.58        23\n",
      "\n",
      "    accuracy                           0.60        50\n",
      "   macro avg       0.60      0.60      0.60        50\n",
      "weighted avg       0.60      0.60      0.60        50\n",
      "\n"
     ]
    }
   ],
   "source": [
    "import nltk\n",
    "from nltk import word_tokenize, pos_tag\n",
    "from nltk.util import ngrams\n",
    "from sklearn.feature_extraction.text import TfidfVectorizer\n",
    "from sklearn.model_selection import train_test_split\n",
    "from sklearn.linear_model import LogisticRegression\n",
    "from sklearn.metrics import classification_report\n",
    "\n",
    "# Función para extraer n-gramas sintácticos\n",
    "def extract_sintactic_ngrams(text):\n",
    "    tokens = word_tokenize(text)\n",
    "    tags = pos_tag(tokens)\n",
    "    tag_ngrams = ngrams([tag for word, tag in tags], 2)  # bigramas sintácticos\n",
    "    return ' '.join(['_'.join(pair) for pair in tag_ngrams])\n",
    "\n",
    "# Vectorización con n-gramas sintácticos\n",
    "vectorizador = TfidfVectorizer(preprocessor=extract_sintactic_ngrams)\n",
    "\n",
    "frases = df['Phrase']\n",
    "etiquetas = df['Author'].copy()\n",
    "\n",
    "X = vectorizador.fit_transform(frases)\n",
    "\n",
    "# Dividir los datos\n",
    "X_train, X_test, y_train, y_test = train_test_split(X, etiquetas, test_size=0.25, random_state=42)\n",
    "\n",
    "# Entrenar el modelo\n",
    "modelo = LogisticRegression()\n",
    "modelo.fit(X_train, y_train)\n",
    "\n",
    "# Evaluar el modelo\n",
    "predicciones = modelo.predict(X_test)\n",
    "print(classification_report(y_test, predicciones))\n",
    "\n"
   ]
  }
 ],
 "metadata": {
  "kernelspec": {
   "display_name": "myenv",
   "language": "python",
   "name": "python3"
  },
  "language_info": {
   "codemirror_mode": {
    "name": "ipython",
    "version": 3
   },
   "file_extension": ".py",
   "mimetype": "text/x-python",
   "name": "python",
   "nbconvert_exporter": "python",
   "pygments_lexer": "ipython3",
   "version": "3.11.4"
  }
 },
 "nbformat": 4,
 "nbformat_minor": 2
}
